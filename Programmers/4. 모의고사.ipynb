{
 "cells": [
  {
   "cell_type": "code",
   "execution_count": 1,
   "id": "caea37ea",
   "metadata": {},
   "outputs": [],
   "source": [
    "from itertools import cycle\n",
    "\n",
    "def solution(answers):\n",
    "    std_1 = cycle([1,2,3,4,5])\n",
    "    std_2 = cycle([2,1,2,3,2,4,2,5])\n",
    "    std_3 = cycle([3,3,1,1,2,2,4,4,5,5])\n",
    "            \n",
    "    score = {1:0, 2:0, 3:0}\n",
    "    \n",
    "    for i in range(len(answers)):\n",
    "        if answers[i] == next(std_1):\n",
    "            score[1] += 1\n",
    "        if answers[i] == next(std_2):\n",
    "            score[2] += 1            \n",
    "        if answers[i] == next(std_3):\n",
    "            score[3] += 1           \n",
    "    \n",
    "    answer = [k for k, v in score.items() if max(score.values()) == v]\n",
    "    return answer"
   ]
  },
  {
   "cell_type": "code",
   "execution_count": 2,
   "id": "1f3db3bb",
   "metadata": {},
   "outputs": [
    {
     "data": {
      "text/plain": [
       "[1]"
      ]
     },
     "execution_count": 2,
     "metadata": {},
     "output_type": "execute_result"
    }
   ],
   "source": [
    "answer = [1,2,3,4,5]\n",
    "solution(answer)"
   ]
  },
  {
   "cell_type": "code",
   "execution_count": 3,
   "id": "13550f66",
   "metadata": {
    "scrolled": true
   },
   "outputs": [
    {
     "data": {
      "text/plain": [
       "[1, 2, 3]"
      ]
     },
     "execution_count": 3,
     "metadata": {},
     "output_type": "execute_result"
    }
   ],
   "source": [
    "answer = [1,3,2,4,2]\n",
    "solution(answer)"
   ]
  },
  {
   "cell_type": "markdown",
   "id": "861ad12d",
   "metadata": {},
   "source": [
    "출처: 프로그래머스 코딩 테스트 연습 "
   ]
  },
  {
   "cell_type": "markdown",
   "id": "18b84199",
   "metadata": {},
   "source": [
    "https://school.programmers.co.kr/learn/challenges"
   ]
  }
 ],
 "metadata": {
  "kernelspec": {
   "display_name": "Python 3",
   "language": "python",
   "name": "python3"
  },
  "language_info": {
   "codemirror_mode": {
    "name": "ipython",
    "version": 3
   },
   "file_extension": ".py",
   "mimetype": "text/x-python",
   "name": "python",
   "nbconvert_exporter": "python",
   "pygments_lexer": "ipython3",
   "version": "3.8.8"
  }
 },
 "nbformat": 4,
 "nbformat_minor": 5
}
