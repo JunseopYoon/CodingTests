{
 "cells": [
  {
   "cell_type": "code",
   "execution_count": 1,
   "id": "8f5020d6",
   "metadata": {},
   "outputs": [],
   "source": [
    "from collections import defaultdict\n",
    "\n",
    "def solution(participant, completion):\n",
    "    answer = []; run = defaultdict(int)\n",
    "\n",
    "    for part in participant:\n",
    "        run[part] += 1\n",
    "\n",
    "    for comp in completion:\n",
    "        if comp in run:\n",
    "            run[comp] -= 1\n",
    "\n",
    "    answer = max(run, key=run.get)\n",
    "\n",
    "    return answer"
   ]
  },
  {
   "cell_type": "code",
   "execution_count": 2,
   "id": "b46ee66f",
   "metadata": {},
   "outputs": [
    {
     "data": {
      "text/plain": [
       "'leo'"
      ]
     },
     "execution_count": 2,
     "metadata": {},
     "output_type": "execute_result"
    }
   ],
   "source": [
    "participant = [\"leo\", \"kiki\", \"eden\"]\n",
    "completion = [\"eden\", \"kiki\"]\n",
    "\n",
    "solution(participant, completion)"
   ]
  },
  {
   "cell_type": "code",
   "execution_count": 3,
   "id": "b74ff17d",
   "metadata": {},
   "outputs": [
    {
     "data": {
      "text/plain": [
       "'vinko'"
      ]
     },
     "execution_count": 3,
     "metadata": {},
     "output_type": "execute_result"
    }
   ],
   "source": [
    "participant = [\"marina\", \"josipa\", \"nikola\", \"vinko\", \"filipa\"]\n",
    "completion = [\"josipa\", \"filipa\", \"marina\", \"nikola\"]\n",
    "\n",
    "solution(participant, completion)"
   ]
  },
  {
   "cell_type": "code",
   "execution_count": 4,
   "id": "913d5b10",
   "metadata": {},
   "outputs": [
    {
     "data": {
      "text/plain": [
       "'mislav'"
      ]
     },
     "execution_count": 4,
     "metadata": {},
     "output_type": "execute_result"
    }
   ],
   "source": [
    "participant = [\"mislav\", \"stanko\", \"mislav\", \"ana\"]\n",
    "completion = [\"stanko\", \"ana\", \"mislav\"]\n",
    "\n",
    "solution(participant, completion)"
   ]
  },
  {
   "cell_type": "markdown",
   "id": "861ad12d",
   "metadata": {},
   "source": [
    "출처: 프로그래머스 코딩 테스트 연습 "
   ]
  },
  {
   "cell_type": "markdown",
   "id": "18b84199",
   "metadata": {},
   "source": [
    "https://school.programmers.co.kr/learn/challenges"
   ],
   {
 "metadata": {
  "kernelspec": {
   "display_name": "Python 3",
   "language": "python",
   "name": "python3"
  },
  "language_info": {
   "codemirror_mode": {
    "name": "ipython",
    "version": 3
   },
   "file_extension": ".py",
   "mimetype": "text/x-python",
   "name": "python",
   "nbconvert_exporter": "python",
   "pygments_lexer": "ipython3",
   "version": "3.8.8"
  }
 },
 "nbformat": 4,
 "nbformat_minor": 5
},

{
   "cell_type": "markdown",
   "id": "861ad12d",
   "metadata": {},
   "source": [
    "출처: 프로그래머스 코딩 테스트 연습 "
   ]
  },
  {
   "cell_type": "markdown",
   "id": "18b84199",
   "metadata": {},
   "source": [
    "https://school.programmers.co.kr/learn/challenges"
   ]
  }
