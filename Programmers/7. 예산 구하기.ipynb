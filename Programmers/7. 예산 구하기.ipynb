{
 "cells": [
  {
   "cell_type": "code",
   "execution_count": 1,
   "id": "a3362fee",
   "metadata": {},
   "outputs": [],
   "source": [
    "def solution(d, budget):\n",
    "    result = 0; i=0\n",
    "    d.sort()\n",
    "    while budget >= 0 and i < len(d):\n",
    "        f = d[i]\n",
    "        budget -= f\n",
    "        if budget < 0:\n",
    "            return result\n",
    "        i += 1        \n",
    "        result += 1\n",
    "\n",
    "    return result"
   ]
  },
  {
   "cell_type": "code",
   "execution_count": 3,
   "id": "70d4038b",
   "metadata": {},
   "outputs": [
    {
     "data": {
      "text/plain": [
       "3"
      ]
     },
     "execution_count": 3,
     "metadata": {},
     "output_type": "execute_result"
    }
   ],
   "source": [
    "d = [1,3,2,5,4]; budget = 9\n",
    "solution(d, budget)"
   ]
  },
  {
   "cell_type": "code",
   "execution_count": 2,
   "id": "c01cf527",
   "metadata": {},
   "outputs": [
    {
     "data": {
      "text/plain": [
       "4"
      ]
     },
     "execution_count": 2,
     "metadata": {},
     "output_type": "execute_result"
    }
   ],
   "source": [
    "d = [2,2,3,3]; budget=10\n",
    "solution(d, budget)"
   ]
  }
 ],
 "metadata": {
  "kernelspec": {
   "display_name": "Python 3",
   "language": "python",
   "name": "python3"
  },
  "language_info": {
   "codemirror_mode": {
    "name": "ipython",
    "version": 3
   },
   "file_extension": ".py",
   "mimetype": "text/x-python",
   "name": "python",
   "nbconvert_exporter": "python",
   "pygments_lexer": "ipython3",
   "version": "3.8.8"
  }
 },
 "nbformat": 4,
 "nbformat_minor": 5
}
