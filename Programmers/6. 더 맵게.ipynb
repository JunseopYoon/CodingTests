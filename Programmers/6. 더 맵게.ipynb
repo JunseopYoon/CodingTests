{
 "cells": [
  {
   "cell_type": "code",
   "execution_count": 1,
   "id": "587636d6",
   "metadata": {},
   "outputs": [],
   "source": [
    "import heapq\n",
    "\n",
    "def solution(scoville, K):\n",
    "    answer = 0\n",
    "    heapq.heapify(scoville)\n",
    "    \n",
    "    while scoville[0] < K:\n",
    "        min1 = heapq.heappop(scoville)\n",
    "        min2 = heapq.heappop(scoville)\n",
    "        heapq.heappush(scoville, min1 + min2*2)\n",
    "        if len(scoville) <= 1 and scoville[0] < K:\n",
    "            return -1\n",
    "        answer += 1\n",
    "\n",
    "    return answer"
   ]
  },
  {
   "cell_type": "code",
   "execution_count": 3,
   "id": "36a5704c",
   "metadata": {},
   "outputs": [
    {
     "data": {
      "text/plain": [
       "2"
      ]
     },
     "execution_count": 3,
     "metadata": {},
     "output_type": "execute_result"
    }
   ],
   "source": [
    "scoville = [1, 2, 3, 9, 10, 12]; K=7\n",
    "solution(scoville, K)"
   ]
  },
  {
   "cell_type": "markdown",
   "id": "861ad12d",
   "metadata": {},
   "source": [
    "출처: 프로그래머스 코딩 테스트 연습 "
   ]
  },
  {
   "cell_type": "markdown",
   "id": "18b84199",
   "metadata": {},
   "source": [
    "https://school.programmers.co.kr/learn/challenges"
   ]
  }
 ],
 "metadata": {
  "kernelspec": {
   "display_name": "Python 3",
   "language": "python",
   "name": "python3"
  },
  "language_info": {
   "codemirror_mode": {
    "name": "ipython",
    "version": 3
   },
   "file_extension": ".py",
   "mimetype": "text/x-python",
   "name": "python",
   "nbconvert_exporter": "python",
   "pygments_lexer": "ipython3",
   "version": "3.8.8"
  }
 },
 "nbformat": 4,
 "nbformat_minor": 5
}
