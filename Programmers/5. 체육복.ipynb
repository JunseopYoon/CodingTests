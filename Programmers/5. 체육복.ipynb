{
 "cells": [
  {
   "cell_type": "code",
   "execution_count": 1,
   "id": "05511d1f",
   "metadata": {},
   "outputs": [],
   "source": [
    "def solution(n, lost, reserve):\n",
    "    lost.sort(); reserve.sort()\n",
    "\n",
    "    for i in range(1, n+1):\n",
    "        if i in lost and i in reserve:\n",
    "            reserve.remove(i)\n",
    "            lost.remove(i) \n",
    "\n",
    "    for i in range(len(lost)):        \n",
    "        for r in reserve:\n",
    "            if r-1 in lost:\n",
    "                lost.remove(r-1)\n",
    "                reserve.remove(r)\n",
    "\n",
    "            elif r+1 in lost:\n",
    "                lost.remove(r+1)\n",
    "\n",
    "    return n - len(lost)"
   ]
  },
  {
   "cell_type": "code",
   "execution_count": 3,
   "id": "bcad0218",
   "metadata": {},
   "outputs": [
    {
     "data": {
      "text/plain": [
       "5"
      ]
     },
     "execution_count": 3,
     "metadata": {},
     "output_type": "execute_result"
    }
   ],
   "source": [
    "n = 5; lost = [2, 4]; reserve = [1, 3, 5]\n",
    "solution(n, lost, reserve)"
   ]
  },
  {
   "cell_type": "code",
   "execution_count": 4,
   "id": "eacedb0e",
   "metadata": {},
   "outputs": [
    {
     "data": {
      "text/plain": [
       "4"
      ]
     },
     "execution_count": 4,
     "metadata": {},
     "output_type": "execute_result"
    }
   ],
   "source": [
    "n = 5; lost = [2, 4]; reserve = [3]\n",
    "solution(n, lost, reserve)"
   ]
  },
  {
   "cell_type": "code",
   "execution_count": 5,
   "id": "9cb1fc32",
   "metadata": {
    "scrolled": true
   },
   "outputs": [
    {
     "data": {
      "text/plain": [
       "2"
      ]
     },
     "execution_count": 5,
     "metadata": {},
     "output_type": "execute_result"
    }
   ],
   "source": [
    "n = 3; lost = [3]; reserve = [1]\n",
    "solution(n, lost, reserve)"
   ]
  },
  {
   "cell_type": "markdown",
   "id": "861ad12d",
   "metadata": {},
   "source": [
    "출처: 프로그래머스 코딩 테스트 연습 "
   ]
  },
  {
   "cell_type": "markdown",
   "id": "18b84199",
   "metadata": {},
   "source": [
    "https://school.programmers.co.kr/learn/challenges"
   ]
  }
 ],
 "metadata": {
  "kernelspec": {
   "display_name": "Python 3",
   "language": "python",
   "name": "python3"
  },
  "language_info": {
   "codemirror_mode": {
    "name": "ipython",
    "version": 3
   },
   "file_extension": ".py",
   "mimetype": "text/x-python",
   "name": "python",
   "nbconvert_exporter": "python",
   "pygments_lexer": "ipython3",
   "version": "3.8.8"
  }
 },
 "nbformat": 4,
 "nbformat_minor": 5
}
