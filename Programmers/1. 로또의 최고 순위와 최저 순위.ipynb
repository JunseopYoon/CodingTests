{
 "cells": [
  {
   "cell_type": "code",
   "execution_count": 1,
   "id": "bc606bde",
   "metadata": {},
   "outputs": [],
   "source": [
    "def solution(lottos, win_nums):\n",
    "    lottos.sort(); win_nums.sort(); zeros=0; corr = 0\n",
    "    for lot in lottos:\n",
    "        if lot == 0:\n",
    "            zeros += 1\n",
    "\n",
    "    for wn in win_nums:\n",
    "        if wn in lottos:\n",
    "            corr += 1\n",
    "        \n",
    "    if corr==0 and zeros==0:\n",
    "        best = 6\n",
    "    elif corr==0 and zeros!=0:\n",
    "        best = 1\n",
    "    else:\n",
    "        best = 7-zeros-corr\n",
    "    \n",
    "    if corr == 0 or corr == 1:\n",
    "        worst = 6\n",
    "    else:\n",
    "        worst = 7-corr\n",
    "    \n",
    "    answer = [best, worst]\n",
    "    return answer"
   ]
  },
  {
   "cell_type": "code",
   "execution_count": 2,
   "id": "7df03328",
   "metadata": {},
   "outputs": [
    {
     "data": {
      "text/plain": [
       "[6, 6]"
      ]
     },
     "execution_count": 2,
     "metadata": {},
     "output_type": "execute_result"
    }
   ],
   "source": [
    "solution([1, 2, 3, 4, 5, 6], [7, 8, 9, 10, 11, 12])"
   ]
  },
  {
   "cell_type": "markdown",
   "id": "861ad12d",
   "metadata": {},
   "source": [
    "출처: 프로그래머스 코딩 테스트 연습 "
   ]
  },
  {
   "cell_type": "markdown",
   "id": "18b84199",
   "metadata": {},
   "source": [
    "https://school.programmers.co.kr/learn/challenges"
   ]
  }
 ],
 "metadata": {
  "kernelspec": {
   "display_name": "Python 3",
   "language": "python",
   "name": "python3"
  },
  "language_info": {
   "codemirror_mode": {
    "name": "ipython",
    "version": 3
   },
   "file_extension": ".py",
   "mimetype": "text/x-python",
   "name": "python",
   "nbconvert_exporter": "python",
   "pygments_lexer": "ipython3",
   "version": "3.8.8"
  }
 },
 "nbformat": 4,
 "nbformat_minor": 5
}
