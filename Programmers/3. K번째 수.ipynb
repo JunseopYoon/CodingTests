{
 "cells": [
  {
   "cell_type": "code",
   "execution_count": 1,
   "id": "cdec6bea",
   "metadata": {},
   "outputs": [],
   "source": [
    "def solution(array, commands):\n",
    "    answer = []\n",
    "    for i in range(len(commands)):\n",
    "        a = commands[i][0]; b = commands[i][1]; c = commands[i][2];\n",
    "        new = array[a-1:b]\n",
    "        new.sort()\n",
    "        answer.append(new[c-1])\n",
    "\n",
    "\n",
    "\n",
    "    return answer"
   ]
  },
  {
   "cell_type": "markdown",
   "id": "861ad12d",
   "metadata": {},
   "source": [
    "출처: 프로그래머스 코딩 테스트 연습 "
   ]
  },
  {
   "cell_type": "markdown",
<<<<<<< HEAD
   "id": "861ad12d",
   "metadata": {},
   "source": [
    "출처: 프로그래머스 코딩 테스트 연습 "
   ]
  },
  {
   "cell_type": "markdown",
   "id": "18b84199",
   "metadata": {},
   "source": [
=======
   "id": "18b84199",
   "metadata": {},
   "source": [
>>>>>>> ba593433381b8428701a8e80e9a4ceda5a043670
    "https://school.programmers.co.kr/learn/challenges"
   ]
  }
 ],
 "metadata": {
  "kernelspec": {
   "display_name": "Python 3",
   "language": "python",
   "name": "python3"
  },
  "language_info": {
   "codemirror_mode": {
    "name": "ipython",
    "version": 3
   },
   "file_extension": ".py",
   "mimetype": "text/x-python",
   "name": "python",
   "nbconvert_exporter": "python",
   "pygments_lexer": "ipython3",
   "version": "3.8.8"
  }
 },
 "nbformat": 4,
 "nbformat_minor": 5
}
